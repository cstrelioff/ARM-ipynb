{
 "cells": [
  {
   "cell_type": "markdown",
   "metadata": {},
   "source": [
    "# 3.4 Statistical inference"
   ]
  },
  {
   "cell_type": "code",
   "execution_count": 1,
   "metadata": {
    "collapsed": true
   },
   "outputs": [],
   "source": [
    "from __future__ import print_function, division\n",
    "%matplotlib inline\n",
    "\n",
    "import matplotlib\n",
    "import numpy as np\n",
    "import pandas as pd\n",
    "import matplotlib.pyplot as plt\n",
    "# use matplotlib style sheet\n",
    "plt.style.use('ggplot')\n",
    "\n",
    "# import statsmodels for R-style regression\n",
    "import statsmodels.formula.api as smf"
   ]
  },
  {
   "cell_type": "markdown",
   "metadata": {},
   "source": [
    "## Read the data\n",
    "\n",
    "Data are in the *child.iq* directory of the ARM_Data download-- you might have\n",
    "to change the path I use below to reflect the path on your computer."
   ]
  },
  {
   "cell_type": "code",
   "execution_count": 2,
   "metadata": {
    "collapsed": false
   },
   "outputs": [
    {
     "data": {
      "text/html": [
       "<div style=\"max-height:1000px;max-width:1500px;overflow:auto;\">\n",
       "<table border=\"1\" class=\"dataframe\">\n",
       "  <thead>\n",
       "    <tr style=\"text-align: right;\">\n",
       "      <th></th>\n",
       "      <th>kid_score</th>\n",
       "      <th>mom_hs</th>\n",
       "      <th>mom_iq</th>\n",
       "      <th>mom_work</th>\n",
       "      <th>mom_age</th>\n",
       "    </tr>\n",
       "  </thead>\n",
       "  <tbody>\n",
       "    <tr>\n",
       "      <th>0</th>\n",
       "      <td>65</td>\n",
       "      <td>1</td>\n",
       "      <td>121.117529</td>\n",
       "      <td>4</td>\n",
       "      <td>27</td>\n",
       "    </tr>\n",
       "    <tr>\n",
       "      <th>1</th>\n",
       "      <td>98</td>\n",
       "      <td>1</td>\n",
       "      <td>89.361882</td>\n",
       "      <td>4</td>\n",
       "      <td>25</td>\n",
       "    </tr>\n",
       "    <tr>\n",
       "      <th>2</th>\n",
       "      <td>85</td>\n",
       "      <td>1</td>\n",
       "      <td>115.443165</td>\n",
       "      <td>4</td>\n",
       "      <td>27</td>\n",
       "    </tr>\n",
       "    <tr>\n",
       "      <th>3</th>\n",
       "      <td>83</td>\n",
       "      <td>1</td>\n",
       "      <td>99.449639</td>\n",
       "      <td>3</td>\n",
       "      <td>25</td>\n",
       "    </tr>\n",
       "    <tr>\n",
       "      <th>4</th>\n",
       "      <td>115</td>\n",
       "      <td>1</td>\n",
       "      <td>92.745710</td>\n",
       "      <td>4</td>\n",
       "      <td>27</td>\n",
       "    </tr>\n",
       "  </tbody>\n",
       "</table>\n",
       "</div>"
      ],
      "text/plain": [
       "   kid_score  mom_hs      mom_iq  mom_work  mom_age\n",
       "0         65       1  121.117529         4       27\n",
       "1         98       1   89.361882         4       25\n",
       "2         85       1  115.443165         4       27\n",
       "3         83       1   99.449639         3       25\n",
       "4        115       1   92.745710         4       27"
      ]
     },
     "execution_count": 2,
     "metadata": {},
     "output_type": "execute_result"
    }
   ],
   "source": [
    "kidiq  = pd.read_stata(\"../../ARM_Data/child.iq/kidiq.dta\")\n",
    "kidiq.head()"
   ]
  },
  {
   "cell_type": "markdown",
   "metadata": {},
   "source": [
    "## Regression-- to demonstrate reports of fit, Pg38"
   ]
  },
  {
   "cell_type": "code",
   "execution_count": 3,
   "metadata": {
    "collapsed": true
   },
   "outputs": [],
   "source": [
    "fit = smf.ols('kid_score ~ mom_hs + mom_iq', data=kidiq).fit()"
   ]
  },
  {
   "cell_type": "markdown",
   "metadata": {},
   "source": [
    "## Display, Pg 38\n",
    "\n",
    "There is no python counterpart to the *display* function in R. However, we can\n",
    "quickly write one for use-- the idea here is to provide an intermediate amount\n",
    "of information, preferred by the authors, about the fit."
   ]
  },
  {
   "cell_type": "code",
   "execution_count": 4,
   "metadata": {
    "collapsed": true
   },
   "outputs": [],
   "source": [
    "def display(f):\n",
    "    \"\"\"Replicate R-style display command.\"\"\"\n",
    "    \n",
    "    output = \"{:<12s}  {:>10s}   {:>10s}\\n\".format(\"\", \"coef.est\", \"coef.se\")\n",
    "    for p in fit.bse.index:\n",
    "        output += \"{:<12s}  {:>10.2f}   {:>10.2f}\\n\".format(p, fit.params[p],\n",
    "                                                            fit.bse[p])\n",
    "    \n",
    "    output += \"---\\n\"\n",
    "    output += \"n = {}, k = {}\\n\".format(int(fit.nobs), int(fit.df_model)+1)\n",
    "    \n",
    "    # residual sd from Pg 41\n",
    "    resid_sd = np.sqrt(np.sum(fit.resid**2)/(fit.nobs-fit.df_model-1))\n",
    "    output += \"residual sd = {:.2f}, R-squared = {:.2f}\\n\".format(resid_sd,\n",
    "                                                                  fit.rsquared)\n",
    "    \n",
    "    print(output)"
   ]
  },
  {
   "cell_type": "markdown",
   "metadata": {},
   "source": [
    "Now, use it:"
   ]
  },
  {
   "cell_type": "code",
   "execution_count": 5,
   "metadata": {
    "collapsed": false
   },
   "outputs": [
    {
     "name": "stdout",
     "output_type": "stream",
     "text": [
      "                coef.est      coef.se\n",
      "Intercept          25.73         5.88\n",
      "mom_hs              5.95         2.21\n",
      "mom_iq              0.56         0.06\n",
      "---\n",
      "n = 434, k = 3\n",
      "residual sd = 18.14, R-squared = 0.21\n",
      "\n"
     ]
    }
   ],
   "source": [
    "display(fit)"
   ]
  },
  {
   "cell_type": "markdown",
   "metadata": {},
   "source": [
    "## Print, Pg 39\n",
    "\n",
    "Too little information?  Just the parameters."
   ]
  },
  {
   "cell_type": "code",
   "execution_count": 6,
   "metadata": {
    "collapsed": false
   },
   "outputs": [
    {
     "name": "stdout",
     "output_type": "stream",
     "text": [
      "Intercept    25.731538\n",
      "mom_hs        5.950117\n",
      "mom_iq        0.563906\n",
      "dtype: float64\n"
     ]
    }
   ],
   "source": [
    "print(fit.params)"
   ]
  },
  {
   "cell_type": "markdown",
   "metadata": {},
   "source": [
    "## Summary, Pg 38\n",
    "\n",
    "Too much information? A ton of (undesireable?) information."
   ]
  },
  {
   "cell_type": "code",
   "execution_count": 7,
   "metadata": {
    "collapsed": false
   },
   "outputs": [
    {
     "name": "stdout",
     "output_type": "stream",
     "text": [
      "                            OLS Regression Results                            \n",
      "==============================================================================\n",
      "Dep. Variable:              kid_score   R-squared:                       0.214\n",
      "Model:                            OLS   Adj. R-squared:                  0.210\n",
      "Method:                 Least Squares   F-statistic:                     58.72\n",
      "Date:                Thu, 30 Jul 2015   Prob (F-statistic):           2.79e-23\n",
      "Time:                        15:30:59   Log-Likelihood:                -1872.0\n",
      "No. Observations:                 434   AIC:                             3750.\n",
      "Df Residuals:                     431   BIC:                             3762.\n",
      "Df Model:                           2                                         \n",
      "Covariance Type:            nonrobust                                         \n",
      "==============================================================================\n",
      "                 coef    std err          t      P>|t|      [95.0% Conf. Int.]\n",
      "------------------------------------------------------------------------------\n",
      "Intercept     25.7315      5.875      4.380      0.000        14.184    37.279\n",
      "mom_hs         5.9501      2.212      2.690      0.007         1.603    10.297\n",
      "mom_iq         0.5639      0.061      9.309      0.000         0.445     0.683\n",
      "==============================================================================\n",
      "Omnibus:                        7.327   Durbin-Watson:                   1.625\n",
      "Prob(Omnibus):                  0.026   Jarque-Bera (JB):                7.530\n",
      "Skew:                          -0.313   Prob(JB):                       0.0232\n",
      "Kurtosis:                       2.845   Cond. No.                         683.\n",
      "==============================================================================\n",
      "\n",
      "Warnings:\n",
      "[1] Standard Errors assume that the covariance matrix of the errors is correctly specified.\n"
     ]
    }
   ],
   "source": [
    "print(fit.summary())"
   ]
  }
 ],
 "metadata": {
  "kernelspec": {
   "display_name": "Python 2",
   "language": "python",
   "name": "python2"
  },
  "language_info": {
   "codemirror_mode": {
    "name": "ipython",
    "version": 2
   },
   "file_extension": ".py",
   "mimetype": "text/x-python",
   "name": "python",
   "nbconvert_exporter": "python",
   "pygments_lexer": "ipython2",
   "version": "2.7.6"
  }
 },
 "nbformat": 4,
 "nbformat_minor": 0
}
