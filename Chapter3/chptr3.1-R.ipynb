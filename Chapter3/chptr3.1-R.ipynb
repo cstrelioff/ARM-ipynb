{
 "cells": [
  {
   "cell_type": "code",
   "execution_count": 1,
   "metadata": {
    "collapsed": true
   },
   "outputs": [],
   "source": [
    "%load_ext rpy2.ipython"
   ]
  },
  {
   "cell_type": "markdown",
   "metadata": {},
   "source": [
    "# 3.1: One predictor\n",
    "\n",
    "## A note on R packages\n",
    "\n",
    "If the *arm*\n",
    "library is not installed in your R setup, you'll need to figure out how to\n",
    "install the package.  On Ubuntu 14.04 I do something like this:\n",
    "\n",
    "* Start R using sudo:\n",
    "\n",
    "sudo R\n",
    "\n",
    "* Install the *arm* package using\n",
    "\n",
    "install.packages('arm', dep = TRUE)\n",
    "\n",
    "## Read the data\n",
    "\n",
    "Data are in the *child.iq* directory of the ARM_Data download-- you might have\n",
    "to change the path I use below to reflect the path on your computer."
   ]
  },
  {
   "cell_type": "code",
   "execution_count": 2,
   "metadata": {
    "collapsed": true
   },
   "outputs": [],
   "source": [
    "%%R\n",
    "# I had to import foreign to get access to read.dta\n",
    "library(\"foreign\")\n",
    "kidiq <- read.dta(\"../../ARM_Data/child.iq/kidiq.dta\")\n",
    "\n",
    "# I won't attach kidiq-- i generally don't attach to avoid confusion(s)\n",
    "#attach(kidiq)"
   ]
  },
  {
   "cell_type": "markdown",
   "metadata": {},
   "source": [
    "## First regression-- binary predictor, Pg 31\n",
    "\n",
    "Loading the *arm* library -- this produces lots of warnings on the first load\n",
    "that I can't figure out how suppress at this point.  However, things work just\n",
    "fine despite the distraction of the warnings. Just rerun the cell to clean up\n",
    "the mess. Also, **let me know if you can figure out how get rid of the\n",
    "warnings.**"
   ]
  },
  {
   "cell_type": "code",
   "execution_count": 10,
   "metadata": {
    "collapsed": false
   },
   "outputs": [],
   "source": [
    "%%R\n",
    "library(\"arm\")"
   ]
  },
  {
   "cell_type": "markdown",
   "metadata": {},
   "source": [
    "Fit the regression using the non-jittered data"
   ]
  },
  {
   "cell_type": "code",
   "execution_count": 4,
   "metadata": {
    "collapsed": false
   },
   "outputs": [
    {
     "data": {
      "text/plain": [
       "lm(formula = kidiq$kid_score ~ kidiq$mom_hs)\n",
       "             coef.est coef.se\n",
       "(Intercept)  77.55     2.06  \n",
       "kidiq$mom_hs 11.77     2.32  \n",
       "---\n",
       "n = 434, k = 2\n",
       "residual sd = 19.85, R-Squared = 0.06\n"
      ]
     },
     "metadata": {},
     "output_type": "display_data"
    }
   ],
   "source": [
    "%%R\n",
    "fit0 <- lm(kidiq$kid_score ~ kidiq$mom_hs)\n",
    "display(fit0)"
   ]
  },
  {
   "cell_type": "markdown",
   "metadata": {},
   "source": [
    "## Plot Figure 3.1, Pg 32\n",
    "\n",
    "Add some jitter to *kid_score*"
   ]
  },
  {
   "cell_type": "code",
   "execution_count": 5,
   "metadata": {
    "collapsed": true
   },
   "outputs": [],
   "source": [
    "%%R\n",
    "# -- note that I use kidiq$kid_score because I did not attach kidiq above\n",
    "kidscore.jitter <- jitter(kidiq$kid_score)"
   ]
  },
  {
   "cell_type": "markdown",
   "metadata": {},
   "source": [
    "Add some 'binary jitter' to  *mom_hs*"
   ]
  },
  {
   "cell_type": "code",
   "execution_count": 6,
   "metadata": {
    "collapsed": true
   },
   "outputs": [],
   "source": [
    "%%R\n",
    "# define function\n",
    "jitter.binary <- function(a, jitt=.05){\n",
    "   ifelse (a==0, runif (length(a), 0, jitt), runif (length(a), 1-jitt, 1))\n",
    "}\n",
    "\n",
    "# use a slightly different name\n",
    "mom_hs.jitter <- jitter.binary(kidiq$mom_hs)"
   ]
  },
  {
   "cell_type": "markdown",
   "metadata": {},
   "source": [
    "Plot using the jittered data"
   ]
  },
  {
   "cell_type": "code",
   "execution_count": 7,
   "metadata": {
    "collapsed": false
   },
   "outputs": [
    {
     "data": {
      "image/png": "[encoded data removed]"
     },
     "metadata": {},
     "output_type": "display_data"
    }
   ],
   "source": [
    "%%R\n",
    "plot(mom_hs.jitter, kidscore.jitter,\n",
    "     xlab=\"Mother completed high school\", \n",
    "     ylab=\"Child test score\",\n",
    "     pch=20, xaxt=\"n\", yaxt=\"n\")\n",
    "axis(1, seq(0,1))\n",
    "axis(2, c(20,60,100,140))\n",
    "abline(fit0)"
   ]
  },
  {
   "cell_type": "markdown",
   "metadata": {},
   "source": [
    "## Second regression -- continuous predictor, Pg 32"
   ]
  },
  {
   "cell_type": "code",
   "execution_count": 8,
   "metadata": {
    "collapsed": false
   },
   "outputs": [
    {
     "data": {
      "text/plain": [
       "lm(formula = kidiq$kid_score ~ kidiq$mom_iq)\n",
       "             coef.est coef.se\n",
       "(Intercept)  25.80     5.92  \n",
       "kidiq$mom_iq  0.61     0.06  \n",
       "---\n",
       "n = 434, k = 2\n",
       "residual sd = 18.27, R-Squared = 0.20\n"
      ]
     },
     "metadata": {},
     "output_type": "display_data"
    }
   ],
   "source": [
    "%%R\n",
    "fit1 <- lm (kidiq$kid_score ~ kidiq$mom_iq)\n",
    "display(fit1)"
   ]
  },
  {
   "cell_type": "markdown",
   "metadata": {},
   "source": [
    "## Figure 3.2, Pg 33"
   ]
  },
  {
   "cell_type": "code",
   "execution_count": 9,
   "metadata": {
    "collapsed": false
   },
   "outputs": [
    {
     "data": {
      "image/png": "[encoded data removed]"
     },
     "metadata": {},
     "output_type": "display_data"
    }
   ],
   "source": [
    "%%R\n",
    "plot(kidiq$mom_iq, kidiq$kid_score,\n",
    "     xlab=\"Mother IQ score\", \n",
    "     ylab=\"Child test score\",\n",
    "     pch=20, xaxt=\"n\", yaxt=\"n\")\n",
    "axis(1, c(80,100,120,140))\n",
    "axis(2, c(20,60,100,140))\n",
    "abline (fit1)"
   ]
  }
 ],
 "metadata": {
  "kernelspec": {
   "display_name": "Python 2",
   "language": "python",
   "name": "python2"
  },
  "language_info": {
   "codemirror_mode": {
    "name": "ipython",
    "version": 2
   },
   "file_extension": ".py",
   "mimetype": "text/x-python",
   "name": "python",
   "nbconvert_exporter": "python",
   "pygments_lexer": "ipython2",
   "version": "2.7.6"
  }
 },
 "nbformat": 4,
 "nbformat_minor": 0
}
