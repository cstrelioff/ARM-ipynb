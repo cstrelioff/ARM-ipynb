{
 "cells": [
  {
   "cell_type": "code",
   "execution_count": 1,
   "metadata": {
    "collapsed": true
   },
   "outputs": [],
   "source": [
    "%load_ext rpy2.ipython"
   ]
  },
  {
   "cell_type": "markdown",
   "metadata": {},
   "source": [
    "# 3.4 Statistical inference\n",
    "\n",
    "## Read the data\n",
    "\n",
    "Data are in the *child.iq* directory of the ARM_Data download-- you might have\n",
    "to change the path I use below to reflect the path on your computer."
   ]
  },
  {
   "cell_type": "code",
   "execution_count": 2,
   "metadata": {
    "collapsed": true
   },
   "outputs": [],
   "source": [
    "%%R\n",
    "# I had to import foreign to get access to read.dta\n",
    "library(\"foreign\")\n",
    "kidiq <- read.dta(\"../../ARM_Data/child.iq/kidiq.dta\")\n",
    "\n",
    "# I won't attach kidiq-- i generally don't attach to avoid confusion(s)\n",
    "#attach(kidiq)"
   ]
  },
  {
   "cell_type": "markdown",
   "metadata": {},
   "source": [
    "Load the *arm* library-- see the Chapter 3.1 notebook if you need help."
   ]
  },
  {
   "cell_type": "code",
   "execution_count": 8,
   "metadata": {
    "collapsed": false
   },
   "outputs": [],
   "source": [
    "%%R\n",
    "library(\"arm\")"
   ]
  },
  {
   "cell_type": "markdown",
   "metadata": {},
   "source": [
    "## Regression-- to demonstrate reports of fit, Pg38"
   ]
  },
  {
   "cell_type": "code",
   "execution_count": 4,
   "metadata": {
    "collapsed": true
   },
   "outputs": [],
   "source": [
    "%%R\n",
    "fit.3 <- lm(kidiq$kid_score ~ kidiq$mom_hs + kidiq$mom_iq)"
   ]
  },
  {
   "cell_type": "markdown",
   "metadata": {},
   "source": [
    "## Display, Pg 38\n",
    "\n",
    "Just right?"
   ]
  },
  {
   "cell_type": "code",
   "execution_count": 5,
   "metadata": {
    "collapsed": false
   },
   "outputs": [
    {
     "data": {
      "text/plain": [
       "lm(formula = kidiq$kid_score ~ kidiq$mom_hs + kidiq$mom_iq)\n",
       "             coef.est coef.se\n",
       "(Intercept)  25.73     5.88  \n",
       "kidiq$mom_hs  5.95     2.21  \n",
       "kidiq$mom_iq  0.56     0.06  \n",
       "---\n",
       "n = 434, k = 3\n",
       "residual sd = 18.14, R-Squared = 0.21\n"
      ]
     },
     "metadata": {},
     "output_type": "display_data"
    }
   ],
   "source": [
    "%%R\n",
    "display(fit.3)"
   ]
  },
  {
   "cell_type": "markdown",
   "metadata": {},
   "source": [
    "## Print, Pg 39\n",
    "\n",
    "Too little information?"
   ]
  },
  {
   "cell_type": "code",
   "execution_count": 6,
   "metadata": {
    "collapsed": false
   },
   "outputs": [
    {
     "data": {
      "text/plain": [
       "\n",
       "Call:\n",
       "lm(formula = kidiq$kid_score ~ kidiq$mom_hs + kidiq$mom_iq)\n",
       "\n",
       "Coefficients:\n",
       " (Intercept)  kidiq$mom_hs  kidiq$mom_iq  \n",
       "     25.7315        5.9501        0.5639  \n",
       "\n"
      ]
     },
     "metadata": {},
     "output_type": "display_data"
    }
   ],
   "source": [
    "%%R\n",
    "print(fit.3)"
   ]
  },
  {
   "cell_type": "markdown",
   "metadata": {},
   "source": [
    "## Summary, Pg 38\n",
    "\n",
    "Too much information?"
   ]
  },
  {
   "cell_type": "code",
   "execution_count": 7,
   "metadata": {
    "collapsed": false
   },
   "outputs": [
    {
     "data": {
      "text/plain": [
       "\n",
       "Call:\n",
       "lm(formula = kidiq$kid_score ~ kidiq$mom_hs + kidiq$mom_iq)\n",
       "\n",
       "Residuals:\n",
       "    Min      1Q  Median      3Q     Max \n",
       "-52.873 -12.663   2.404  11.356  49.545 \n",
       "\n",
       "Coefficients:\n",
       "             Estimate Std. Error t value Pr(>|t|)    \n",
       "(Intercept)  25.73154    5.87521   4.380 1.49e-05 ***\n",
       "kidiq$mom_hs  5.95012    2.21181   2.690  0.00742 ** \n",
       "kidiq$mom_iq  0.56391    0.06057   9.309  < 2e-16 ***\n",
       "---\n",
       "Signif. codes:  0 ‘***’ 0.001 ‘**’ 0.01 ‘*’ 0.05 ‘.’ 0.1 ‘ ’ 1\n",
       "\n",
       "Residual standard error: 18.14 on 431 degrees of freedom\n",
       "Multiple R-squared:  0.2141,\tAdjusted R-squared:  0.2105 \n",
       "F-statistic: 58.72 on 2 and 431 DF,  p-value: < 2.2e-16\n",
       "\n"
      ]
     },
     "metadata": {},
     "output_type": "display_data"
    }
   ],
   "source": [
    "%%R\n",
    "summary(fit.3)"
   ]
  }
 ],
 "metadata": {
  "kernelspec": {
   "display_name": "Python 2",
   "language": "python",
   "name": "python2"
  },
  "language_info": {
   "codemirror_mode": {
    "name": "ipython",
    "version": 2
   },
   "file_extension": ".py",
   "mimetype": "text/x-python",
   "name": "python",
   "nbconvert_exporter": "python",
   "pygments_lexer": "ipython2",
   "version": "2.7.6"
  }
 },
 "nbformat": 4,
 "nbformat_minor": 0
}
