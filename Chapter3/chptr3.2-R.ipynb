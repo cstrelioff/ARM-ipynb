{
 "cells": [
  {
   "cell_type": "code",
   "execution_count": 1,
   "metadata": {
    "collapsed": true
   },
   "outputs": [],
   "source": [
    "%load_ext rpy2.ipython"
   ]
  },
  {
   "cell_type": "markdown",
   "metadata": {},
   "source": [
    "# 3.1: Multiple predictors\n",
    "\n",
    "## Read the data\n",
    "\n",
    "Data are in the *child.iq* directory of the ARM_Data download-- you might have\n",
    "to change the path I use below to reflect the path on your computer."
   ]
  },
  {
   "cell_type": "code",
   "execution_count": 2,
   "metadata": {
    "collapsed": true
   },
   "outputs": [],
   "source": [
    "%%R\n",
    "# I had to import foreign to get access to read.dta\n",
    "library(\"foreign\")\n",
    "kidiq <- read.dta(\"../../ARM_Data/child.iq/kidiq.dta\")\n",
    "\n",
    "# I won't attach kidiq-- i generally don't attach to avoid confusion(s)\n",
    "#attach(kidiq)"
   ]
  },
  {
   "cell_type": "markdown",
   "metadata": {},
   "source": [
    "Load the *arm* library-- see the Chapter 3.1 notebook if you need help."
   ]
  },
  {
   "cell_type": "code",
   "execution_count": 6,
   "metadata": {
    "collapsed": false
   },
   "outputs": [],
   "source": [
    "%%R\n",
    "library(\"arm\")"
   ]
  },
  {
   "cell_type": "markdown",
   "metadata": {},
   "source": [
    "## Regression-- two predictors"
   ]
  },
  {
   "cell_type": "code",
   "execution_count": 4,
   "metadata": {
    "collapsed": false
   },
   "outputs": [
    {
     "data": {
      "text/plain": [
       "lm(formula = kidiq$kid_score ~ kidiq$mom_hs + kidiq$mom_iq)\n",
       "             coef.est coef.se\n",
       "(Intercept)  25.73     5.88  \n",
       "kidiq$mom_hs  5.95     2.21  \n",
       "kidiq$mom_iq  0.56     0.06  \n",
       "---\n",
       "n = 434, k = 3\n",
       "residual sd = 18.14, R-Squared = 0.21\n"
      ]
     },
     "metadata": {},
     "output_type": "display_data"
    }
   ],
   "source": [
    "%%R\n",
    "fit2 <- lm(kidiq$kid_score ~ kidiq$mom_hs + kidiq$mom_iq)\n",
    "display(fit2)"
   ]
  },
  {
   "cell_type": "code",
   "execution_count": 5,
   "metadata": {
    "collapsed": false
   },
   "outputs": [
    {
     "data": {
      "image/png": "[encoded data removed]"
     },
     "metadata": {},
     "output_type": "display_data"
    }
   ],
   "source": [
    "%%R\n",
    "plot(kidiq$mom_iq, kidiq$kid_score,\n",
    "     xlab=\"Mother IQ score\", \n",
    "     ylab=\"Child test score\",\n",
    "     pch=20, xaxt=\"n\", yaxt=\"n\", type=\"n\")\n",
    "curve(coef(fit2)[1] + coef(fit2)[2] + coef(fit2)[3]*x, add=TRUE, col=\"gray\")\n",
    "curve(coef(fit2)[1] + coef(fit2)[3]*x, add=TRUE)\n",
    "points(kidiq$mom_iq[kidiq$mom_hs==0],\n",
    "       kidiq$kid_score[kidiq$mom_hs==0], pch=19)\n",
    "points(kidiq$mom_iq[kidiq$mom_hs==1], \n",
    "       kidiq$kid_score[kidiq$mom_hs==1], col=\"gray\", pch=19)\n",
    "axis(1, c(80,100,120,140))\n",
    "axis(2, c(20,60,100,140))"
   ]
  }
 ],
 "metadata": {
  "kernelspec": {
   "display_name": "Python 2",
   "language": "python",
   "name": "python2"
  },
  "language_info": {
   "codemirror_mode": {
    "name": "ipython",
    "version": 2
   },
   "file_extension": ".py",
   "mimetype": "text/x-python",
   "name": "python",
   "nbconvert_exporter": "python",
   "pygments_lexer": "ipython2",
   "version": "2.7.6"
  }
 },
 "nbformat": 4,
 "nbformat_minor": 0
}
